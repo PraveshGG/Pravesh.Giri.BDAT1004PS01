{
 "cells": [
  {
   "cell_type": "markdown",
   "metadata": {},
   "source": [
    "## Question 1"
   ]
  },
  {
   "cell_type": "markdown",
   "metadata": {},
   "source": [
    "5              integer\n",
    "-------------------------------------------------------------------\n",
    "5.0            float\n",
    "-------------------------------------------------------------------\n",
    "5 > 1          boolean expression\n",
    "-------------------------------------------------------------------\n",
    "'5'            string\n",
    "-------------------------------------------------------------------\n",
    "5 * 2          integer multiplication\n",
    "-------------------------------------------------------------------\n",
    "'5' * 2        string concatenation of 2 copies of string '5'\n",
    "-------------------------------------------------------------------\n",
    "'5' + '2'      string concatenation of '5' and '2'\n",
    "-------------------------------------------------------------------\n",
    "5 / 2          integer division resulting in float value\n",
    "-------------------------------------------------------------------\n",
    "5 // 2         integer division giving only quotient\n",
    "-------------------------------------------------------------------\n",
    "[5, 2, 1]      list\n",
    "-------------------------------------------------------------------\n",
    "5 in [1, 4, 6] boolean expression\n",
    "-------------------------------------------------------------------\n",
    "math.pi        standard python library module\n",
    "-------------------------------------------------------------------\n"
   ]
  },
  {
   "cell_type": "markdown",
   "metadata": {},
   "source": [
    "## Question 2"
   ]
  },
  {
   "cell_type": "code",
   "execution_count": 1,
   "metadata": {},
   "outputs": [
    {
     "data": {
      "text/plain": [
       "34"
      ]
     },
     "execution_count": 1,
     "metadata": {},
     "output_type": "execute_result"
    }
   ],
   "source": [
    "#2.a\n",
    "string1 =  \"Supercalifragilisticexpialidocious\"\n",
    "len(string1)\n"
   ]
  },
  {
   "cell_type": "code",
   "execution_count": 2,
   "metadata": {},
   "outputs": [
    {
     "data": {
      "text/plain": [
       "True"
      ]
     },
     "execution_count": 2,
     "metadata": {},
     "output_type": "execute_result"
    }
   ],
   "source": [
    "#2.b\n",
    "subString1 = 'ice'\n",
    "subString1 in string1"
   ]
  },
  {
   "cell_type": "code",
   "execution_count": 3,
   "metadata": {},
   "outputs": [
    {
     "name": "stdout",
     "output_type": "stream",
     "text": [
      "Supercalifragilisticexpialidocious\n"
     ]
    }
   ],
   "source": [
    "#2.c\n",
    "##adding the strings into the list\n",
    "stringList = ['Supercalifragilisticexpialidocious', 'Honorificabilitudinitatibus', 'Bababadalgharaghtakamminarronnkonn']\n",
    "## creating a container empty string\n",
    "longestString = ''\n",
    "##looping around the stringList, checking the legnth of the elements of the list and assigning to the empty string\n",
    "for string in stringList:\n",
    "    if len(string) > len(longestString):\n",
    "        longestString = string\n",
    "print(longestString)\n"
   ]
  },
  {
   "cell_type": "code",
   "execution_count": 4,
   "metadata": {},
   "outputs": [
    {
     "name": "stdout",
     "output_type": "stream",
     "text": [
      "The first composer in the dictionary is Bartokand the last is Buxtehude\n"
     ]
    }
   ],
   "source": [
    "#2.d\n",
    "#adding the composers' names into the list\n",
    "composerList = [ 'Berlioz', 'Borodin', 'Brian','Bartok', 'Bellini', 'Buxtehude', 'Bernstein']\n",
    "#using library sort function that alphabetizes the list \n",
    "composerList.sort()\n",
    "#printing the first and last element of the list\n",
    "print('The first composer in the dictionary is ' + composerList[0] + 'and the last is '\n",
    "     + composerList[-1])"
   ]
  },
  {
   "cell_type": "markdown",
   "metadata": {},
   "source": [
    " ## Question 3"
   ]
  },
  {
   "cell_type": "code",
   "execution_count": 5,
   "metadata": {},
   "outputs": [
    {
     "name": "stdout",
     "output_type": "stream",
     "text": [
      "False\n"
     ]
    }
   ],
   "source": [
    "#3.a\n",
    "#simple maths checking the point co ordinates provided against the lower and upper points\n",
    "def inside(x, y, x1, y1, x2, y2):\n",
    "    print( x > x1 and x < x2  and y > y1 and y < y2)\n",
    "        \n",
    "inside (-1, - 1, 0, 0, 2, 3)"
   ]
  },
  {
   "cell_type": "code",
   "execution_count": 6,
   "metadata": {},
   "outputs": [
    {
     "name": "stdout",
     "output_type": "stream",
     "text": [
      "False\n"
     ]
    }
   ],
   "source": [
    "#3.b\n",
    "#using and boolean expressions so that both conditions must be true \n",
    "inside (1, 1, 0.3, 0.5, 1.1, 0.7) and inside (1, 1, 0.5, 0.2, 1.1, 2)"
   ]
  },
  {
   "cell_type": "markdown",
   "metadata": {},
   "source": [
    "## Question 4 "
   ]
  },
  {
   "cell_type": "code",
   "execution_count": 8,
   "metadata": {},
   "outputs": [
    {
     "name": "stdout",
     "output_type": "stream",
     "text": [
      "Enter the word you wish to change into pig-Latin: happy\n",
      "The pig-Latin word is appyhay\n"
     ]
    }
   ],
   "source": [
    "#asking user for the word and saving into words string\n",
    "words = input('Enter the word you wish to change into pig-Latin: ')\n",
    "\n",
    "\n",
    "\n",
    "def pig(word):\n",
    "#     checking whether the first letter of the word is a vowel or consonant\n",
    "    if word[0] in ['a', 'e', 'i', 'o', 'u']:\n",
    "        word += 'way'\n",
    "        print ('The pig-Latin word is ' + word)\n",
    "    else:\n",
    "#         remvoing the first letter, concatenating that letter at the end with 'ay'\n",
    "        word = word[1:] + word[0] + 'ay'\n",
    "        print ('The pig-Latin word is ' + word)\n",
    "\n",
    "# calling our pig func\n",
    "pig(words)"
   ]
  },
  {
   "cell_type": "markdown",
   "metadata": {},
   "source": [
    "## Question 5\n"
   ]
  },
  {
   "cell_type": "code",
   "execution_count": 9,
   "metadata": {},
   "outputs": [
    {
     "name": "stdout",
     "output_type": "stream",
     "text": [
      "There are 13 patient(s) of blood type AB.\n",
      "There are 1 patient(s) of blood type B.\n",
      "There are 15 patient(s) of blood type O.\n",
      "There are 15 patient(s) of blood type A.\n"
     ]
    }
   ],
   "source": [
    "# importing Counter function from collections library\n",
    "from collections import Counter \n",
    "\n",
    "#open the file with absolute path\n",
    "bloodTypeFile = open(r\"C:\\\\Users\\\\prav3\\\\Documents\\\\bloodtype1.txt\")\n",
    "\n",
    "#read the file and split in to multiple lines and assign it to content\n",
    "content = bloodTypeFile.read().split()\n",
    "\n",
    "#close the cursor\n",
    "bloodTypeFile.close()\n",
    "\n",
    "#using collections library and importing Counter function\n",
    "counts = Counter(content)\n",
    "for key, value in counts.items():\n",
    "    print ('There are ' + str(value) + ' patient(s) of blood type ' + key + '.')\n",
    "    "
   ]
  },
  {
   "cell_type": "markdown",
   "metadata": {},
   "source": [
    "## Question 6\n"
   ]
  },
  {
   "cell_type": "code",
   "execution_count": 10,
   "metadata": {},
   "outputs": [
    {
     "name": "stdout",
     "output_type": "stream",
     "text": [
      "The value of 100 EUR in US dollars is 122.96544\n"
     ]
    }
   ],
   "source": [
    "# importing Counter function from collections library\n",
    "from collections import Counter \n",
    "\n",
    "# providing absolute path the open it in r mode\n",
    "currenciesFile = open(r\"C:\\\\Users\\\\prav3\\\\Documents\\\\currencies.txt\")\n",
    "\n",
    "# reading the file per line\n",
    "content = currenciesFile.readlines()\n",
    "\n",
    "#close the cursor\n",
    "currenciesFile.close()\n",
    "\n",
    "# multiplier is for the conversion value\n",
    "multiplier = 0.0\n",
    "\n",
    "def curconversion(name, value):\n",
    "    for a in content:\n",
    "        if name in a:\n",
    "#           we are trying to extract the currency rate from the content list by splitting the first 4 characters and going upto last\n",
    "#           digit of the rate and changing it to float value\n",
    "            multiplier = float(a[4:13])\n",
    "    \n",
    "#            value is supplied by the user along the currency code (name)\n",
    "            print('The value of 100 '+ name + ' in US dollars is ' + str(multiplier * value))\n",
    "            return\n",
    "    print(\"Error\")\n",
    "\n",
    "curconversion('EUR', 100)\n"
   ]
  },
  {
   "cell_type": "markdown",
   "metadata": {},
   "source": [
    "## Question 7"
   ]
  },
  {
   "cell_type": "markdown",
   "metadata": {},
   "source": [
    "Trying to add incompatible variables, as in\n",
    "adding 6 + ‘a’:  `TypeError`\n",
    "\n",
    "Referring to the 12th item of a list that has only 10\n",
    "items:   `IndexError`\n",
    "\n",
    "Using a value that is out of range for a function’s\n",
    "input, such as calling math.sqrt(-1.0)  `ValueError`\n",
    "\n",
    "Using an undeclared variable, such as print(x)\n",
    "when x has not been defined `NameError`\n",
    "\n",
    "Trying to open a file that does not exist, such as\n",
    "mistyping the file name or looking in the wrong\n",
    "directory.  `IOError`"
   ]
  },
  {
   "cell_type": "markdown",
   "metadata": {},
   "source": [
    "## Question 8"
   ]
  },
  {
   "cell_type": "code",
   "execution_count": 11,
   "metadata": {},
   "outputs": [
    {
     "name": "stdout",
     "output_type": "stream",
     "text": [
      "Counter({' ': 8, 'e': 5, 'o': 4, 't': 3, 'd': 3, 'h': 2, 'r': 2, 'n': 2, 'q': 1, 'u': 1, 'i': 1, 'c': 1, 'k': 1, 'f': 1, 'x': 1, 'g': 1, 'b': 1, 'a': 1, 'w': 1, 'm': 1, '.': 1})\n",
      "Counter({'p': 2, 'a': 1, 'l': 1, 'e': 1})\n"
     ]
    }
   ],
   "source": [
    "from collections import Counter \n",
    "\n",
    "# we are using counter function which takes a string and counts each characters and returns it in key value pair\n",
    "def frequencies(cryptoText):\n",
    "        print (Counter(cryptoText.lower()))\n",
    "\n",
    "frequencies('The quick red fox got bored and went home.')\n",
    "\n",
    "frequencies('apple')"
   ]
  },
  {
   "cell_type": "markdown",
   "metadata": {},
   "source": [
    "## Question 9"
   ]
  },
  {
   "cell_type": "code",
   "execution_count": 13,
   "metadata": {},
   "outputs": [
    {
     "name": "stdout",
     "output_type": "stream",
     "text": [
      "Enter the number: 32\n",
      "[2, 3, 5, 7, 11, 13, 17, 19, 23, 29, 31]\n"
     ]
    }
   ],
   "source": [
    "## This was the most time consuming question for me tbh\n",
    "\n",
    "# creating two empty intital lists\n",
    "L = []\n",
    "primeL = []\n",
    "\n",
    "# asking the user for the max range upto which we want the prime numbers\n",
    "maxRange = int(input('Enter the number: '))\n",
    "\n",
    "# using maxrange to add the values into the first List\n",
    "for i in range(2, maxRange): \n",
    "    L.append(i) \n",
    "\n",
    "# this function first checks the length of first list\n",
    "# if the list is not empty, we take the 1st element of the 1st list to the primeL list\n",
    "# assigning the 1st element of L to fEL because we dont want it to change inside the  iteration in the if condition\n",
    "# inside the for loop, we check the multiples of 1st element and remove them.\n",
    "# after the removal, we have a new list and we repeat the same process, so using recurssion we call the siev() again\n",
    "# when everything is removed and list is empty we simply print the primeL list with all the prime numbers inside it\n",
    "def siev(): \n",
    "    if len(L) > 0:\n",
    "        primeL.append(L[0])\n",
    "        fEl = L[0]\n",
    "        for i in L:\n",
    "            if i%fEl == 0:\n",
    "                L.remove(i)\n",
    "        siev()\n",
    "    else:\n",
    "        print(primeL)\n",
    "        return\n",
    "\n",
    "#     we call this function which prints the prime numbers\n",
    "siev()\n"
   ]
  },
  {
   "cell_type": "markdown",
   "metadata": {},
   "source": [
    "## Question 10"
   ]
  },
  {
   "cell_type": "code",
   "execution_count": 14,
   "metadata": {},
   "outputs": [
    {
     "data": {
      "text/plain": [
       "1.7320508075688772"
      ]
     },
     "execution_count": 14,
     "metadata": {},
     "output_type": "execute_result"
    }
   ],
   "source": [
    "import math\n",
    "s = 0.0\n",
    "# nothing special just using sqrt function found within math library to do the calculation\n",
    "def calculateArea(a, b, c):\n",
    "    s = (a + b + c) / 2\n",
    "    return math.sqrt(s * (s-a) * (s - b) * (s-c))\n",
    "\n",
    "calculateArea(2,2,2)"
   ]
  },
  {
   "cell_type": "code",
   "execution_count": null,
   "metadata": {},
   "outputs": [],
   "source": []
  }
 ],
 "metadata": {
  "kernelspec": {
   "display_name": "Python 3",
   "language": "python",
   "name": "python3"
  },
  "language_info": {
   "codemirror_mode": {
    "name": "ipython",
    "version": 3
   },
   "file_extension": ".py",
   "mimetype": "text/x-python",
   "name": "python",
   "nbconvert_exporter": "python",
   "pygments_lexer": "ipython3",
   "version": "3.7.6"
  }
 },
 "nbformat": 4,
 "nbformat_minor": 4
}
